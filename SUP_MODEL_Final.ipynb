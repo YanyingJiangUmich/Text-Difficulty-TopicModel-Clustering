{
 "cells": [
  {
   "cell_type": "markdown",
   "metadata": {
    "cell_id": "8a275f241f3d4dc195e25108fe62fddb",
    "deepnote_cell_type": "text-cell-h1",
    "formattedRanges": [],
    "is_collapsed": false,
    "tags": []
   },
   "source": [
    "# Supervised Learning Model for Predicting Text Difficulty\n",
    "\n",
    "Author: Yanying Jiang\n",
    "\n",
    "The purpose of this part is to build a supervised learning classification model where we will be able to predict whether each document(sentence) in the dataset extracted from Wikipedia needs to be simplified.In the end, we hope to find a \"best\" model for predicting the text difficulty. The two classes are defined as following: \n",
    "\n",
    "Class 0: the sentence does NOT need to be simplified (Not Difficult).\n",
    "\n",
    "Class 1: the sentence DOES need to be simplified (Difficult).\n",
    "\n",
    "For supervised learning, we have explored four different types of algorithms. The feature representations are the same for the four models. It’s the feature representation extracted from Word2Vec using Bag of Words. \n"
   ]
  },
  {
   "cell_type": "markdown",
   "metadata": {},
   "source": [
    "## Import Packages and Load the Data"
   ]
  },
  {
   "cell_type": "code",
   "execution_count": 62,
   "metadata": {
    "cell_id": "f7c7607880fb490982e33d6a898b29e9",
    "deepnote_cell_type": "code",
    "deepnote_to_be_reexecuted": false,
    "execution_millis": 1931,
    "execution_start": 1675807826066,
    "source_hash": "f29f0175"
   },
   "outputs": [],
   "source": [
    "import numpy as np\n",
    "import pandas as pd\n",
    "from sklearn.linear_model import LogisticRegression\n",
    "from sklearn.ensemble import RandomForestClassifier\n",
    "from sklearn import metrics\n",
    "from sklearn.metrics import roc_curve, auc, accuracy_score, f1_score,confusion_matrix, classification_report, roc_auc_score, roc_curve, ConfusionMatrixDisplay\n",
    "# !pip install xgboost\n",
    "from xgboost import XGBClassifier\n",
    "from sklearn.metrics import make_scorer\n",
    "%matplotlib inline\n",
    "import matplotlib.pyplot as plt\n",
    "from sklearn.model_selection import GridSearchCV\n",
    "import warnings\n",
    "warnings.filterwarnings('ignore')"
   ]
  },
  {
   "cell_type": "code",
   "execution_count": 63,
   "metadata": {
    "cell_id": "cbabbc7a2d9c49a09c53619ed831a27f",
    "deepnote_cell_type": "code",
    "deepnote_to_be_reexecuted": false,
    "execution_millis": 407,
    "execution_start": 1675809198991,
    "source_hash": "b15e1b74",
    "tags": []
   },
   "outputs": [],
   "source": [
    "X_train = np.load('work/X_train.npy', allow_pickle=True)\n",
    "y_train = np.load('work/y_train.npy', allow_pickle=True)\n",
    "X_test = np.load('work/X_test.npy', allow_pickle=True)\n",
    "y_test = np.load('work/y_test.npy', allow_pickle=True)"
   ]
  },
  {
   "cell_type": "code",
   "execution_count": 64,
   "metadata": {
    "cell_id": "18c0dd88829c4ee7871ef62bd95ae12d",
    "deepnote_cell_type": "code",
    "deepnote_to_be_reexecuted": false,
    "execution_millis": 80,
    "execution_start": 1675809685491,
    "source_hash": "b98e27fa",
    "tags": []
   },
   "outputs": [
    {
     "data": {
      "text/plain": [
       "array([[ 4.50352978e-02,  6.00388991e-01, -3.95767326e-02, ...,\n",
       "         5.38313106e-01, -5.25885933e-02,  3.00000000e+00],\n",
       "       [ 1.23106157e-01, -1.86731901e-01,  3.06317477e-01, ...,\n",
       "         4.24844958e-02, -5.26645007e-02,  1.80000000e+01],\n",
       "       [-1.73756810e-01,  3.81529705e-02,  9.34495208e-02, ...,\n",
       "         1.58725339e-01,  3.09349138e-01,  1.30000000e+01],\n",
       "       ...,\n",
       "       [ 3.90132142e-02,  2.12377778e-01,  3.40997981e-02, ...,\n",
       "        -1.75926444e-01,  1.48650268e-01,  1.10000000e+01],\n",
       "       [-1.22956923e-01,  4.37406536e-02, -1.77284148e-01, ...,\n",
       "        -3.28268702e-01, -1.11432150e-01,  2.00000000e+00],\n",
       "       [-1.52533755e-01,  6.47480585e-02, -1.44042729e-02, ...,\n",
       "        -6.19487655e-02,  1.39388635e-01,  1.90000000e+01]])"
      ]
     },
     "execution_count": 64,
     "metadata": {},
     "output_type": "execute_result"
    }
   ],
   "source": [
    "X_train.shape\n",
    "X_train"
   ]
  },
  {
   "cell_type": "markdown",
   "metadata": {},
   "source": [
    "## Logistic Regression\n",
    "We used logistic regression as our baseline model to train. Logistic regression predicts the category label by learning the coefficients for each feature. The output is a probability score between 0 and 1 so if the score is greater than a certain threshold then the document is classified into 1, otherwise 0. Since it’s simple and easy to interpret for initial exploration we implemented it as a starting point.  \n",
    "In the first iteration with default parameters, the accuracy score is poorly around 64%. However we meant to use it as a baseline for comparison purposes, so we didn’t go too much further exploring it. \n"
   ]
  },
  {
   "cell_type": "code",
   "execution_count": 4,
   "metadata": {
    "cell_id": "cd4a53e350b745b4a07cc74d37c87a8f",
    "deepnote_cell_type": "code",
    "deepnote_to_be_reexecuted": false,
    "execution_millis": 27040,
    "execution_start": 1675809201592,
    "source_hash": "77ed345b"
   },
   "outputs": [
    {
     "data": {
      "text/plain": [
       "LogisticRegression(max_iter=3000)"
      ]
     },
     "execution_count": 4,
     "metadata": {},
     "output_type": "execute_result"
    }
   ],
   "source": [
    "mean_wv_lr = LogisticRegression(solver='lbfgs', max_iter=3000) #max_iter default 100 \n",
    "mean_wv_lr.fit(X_train, y_train)"
   ]
  },
  {
   "cell_type": "code",
   "execution_count": 5,
   "metadata": {
    "cell_id": "e3c98ad7d12d4a37a5ba13bd557abac6",
    "deepnote_cell_type": "code",
    "deepnote_to_be_reexecuted": false,
    "execution_millis": 59,
    "execution_start": 1675809648957,
    "source_hash": "f19661a5"
   },
   "outputs": [
    {
     "data": {
      "text/plain": [
       "array([1, 0, 0, ..., 1, 1, 0])"
      ]
     },
     "execution_count": 5,
     "metadata": {},
     "output_type": "execute_result"
    }
   ],
   "source": [
    "pred_mean_wv_lr = mean_wv_lr.predict(X_test)\n",
    "pred_mean_wv_lr"
   ]
  },
  {
   "cell_type": "code",
   "execution_count": 6,
   "metadata": {
    "cell_id": "1b5027f0619641d999f33934ee67a9ac",
    "deepnote_cell_type": "code",
    "deepnote_to_be_reexecuted": false,
    "execution_millis": 624,
    "execution_start": 1675809651090,
    "source_hash": "29d884bf"
   },
   "outputs": [
    {
     "name": "stdout",
     "output_type": "stream",
     "text": [
      "               precision    recall  f1-score   support\n",
      "\n",
      "Not Difficult       0.63      0.66      0.65     41549\n",
      "    Difficult       0.65      0.62      0.63     41805\n",
      "\n",
      "     accuracy                           0.64     83354\n",
      "    macro avg       0.64      0.64      0.64     83354\n",
      " weighted avg       0.64      0.64      0.64     83354\n",
      "\n"
     ]
    }
   ],
   "source": [
    "print(classification_report(y_test, pred_mean_wv_lr,target_names = [\"Not Difficult\", \"Difficult\"]))"
   ]
  },
  {
   "cell_type": "code",
   "execution_count": 7,
   "metadata": {},
   "outputs": [
    {
     "name": "stdout",
     "output_type": "stream",
     "text": [
      "[0.63439506 0.63163577 0.63991362 0.63157579 0.63953209]\n",
      "Mean 0.6354104676635305\n",
      "Std 0.003667432863760274\n"
     ]
    }
   ],
   "source": [
    "from sklearn.model_selection import cross_val_score\n",
    "scores = cross_val_score(mean_wv_lr,X_test,y_test,cv=5)\n",
    "print(scores)\n",
    "print(\"Mean\",scores.mean())\n",
    "print(\"Std\",scores.std())"
   ]
  },
  {
   "cell_type": "code",
   "execution_count": 58,
   "metadata": {},
   "outputs": [],
   "source": [
    "# from sklearn.metrics import roc_auc_score\n",
    "# print('roc_auc:',roc_auc_score(y_test, pred_mean_wv_lr))\n",
    "# print('accuracy:',accuracy_score(y_test, pred_mean_wv_lr))"
   ]
  },
  {
   "cell_type": "code",
   "execution_count": 9,
   "metadata": {},
   "outputs": [
    {
     "data": {
      "image/png": "[encoded data removed]",
      "text/plain": [
       "<Figure size 432x288 with 1 Axes>"
      ]
     },
     "metadata": {
      "needs_background": "light"
     },
     "output_type": "display_data"
    }
   ],
   "source": [
    "# Create ROC curve function \n",
    "def roc_curve_plot(y_test,y_pred,model_name):\n",
    "    auc=roc_auc_score(y_test, y_pred)\n",
    "    fpr, tpr, threshold = metrics.roc_curve(y_test, y_pred)\n",
    "    plt.plot(fpr, tpr, label='ROC curve (area = %.2f)' %auc)\n",
    "    plt.plot([0, 1], [0, 1], linestyle='--', lw=2, color='r', label='Random guess')\n",
    "    plt.title('ROC curve'+' - ' + model_name)\n",
    "    plt.ylabel('True Positive Rate')\n",
    "    plt.xlabel('False Positive Rate')\n",
    "    plt.grid()\n",
    "    plt.legend()\n",
    "    plt.show()\n",
    "    \n",
    "roc_curve_plot(y_test, pred_mean_wv_lr,'Logistic Regression')"
   ]
  },
  {
   "cell_type": "markdown",
   "metadata": {},
   "source": [
    "## Linear SVM Classifer\n",
    "Linear SVM is widely considered as one of the best text classification algorithms. There are a few reasons that we choose Linear SVM:\n",
    "\n",
    "1.Handles high-dimensional data very well. In text classification tasks, each n-gram/word can be represented as a feature vector, resulting in a high-dimensional matrix. SVM can work well in these scenarios. \n",
    "\n",
    "2.SVM is faster than many other algorithms, making it more efficient in real life. \n",
    "\n",
    "3.Linear SVC is scalable and robust to noise. Our text data may have a lot of noises that are not easy to identify. \n",
    "\n",
    "Parameter tuning was done on max_iter. A smaller number of iterations made Liblinear failed to \n",
    "converge. So we increased the max of iterations to 10000 that the model was able to converge. \n"
   ]
  },
  {
   "cell_type": "code",
   "execution_count": 10,
   "metadata": {},
   "outputs": [
    {
     "name": "stderr",
     "output_type": "stream",
     "text": [
      "/Users/yanyingj/miniconda3/lib/python3.8/site-packages/sklearn/svm/_base.py:1206: ConvergenceWarning: Liblinear failed to converge, increase the number of iterations.\n",
      "  warnings.warn(\n"
     ]
    },
    {
     "data": {
      "text/plain": [
       "LinearSVC(max_iter=10000, random_state=42)"
      ]
     },
     "execution_count": 10,
     "metadata": {},
     "output_type": "execute_result"
    }
   ],
   "source": [
    "from sklearn.svm import LinearSVC\n",
    "mean_wv_svm = LinearSVC(max_iter=10000,random_state =42)\n",
    "mean_wv_svm.fit(X_train, y_train)"
   ]
  },
  {
   "cell_type": "code",
   "execution_count": 11,
   "metadata": {},
   "outputs": [
    {
     "name": "stderr",
     "output_type": "stream",
     "text": [
      "/Users/yanyingj/miniconda3/lib/python3.8/site-packages/sklearn/svm/_base.py:1206: ConvergenceWarning: Liblinear failed to converge, increase the number of iterations.\n",
      "  warnings.warn(\n",
      "/Users/yanyingj/miniconda3/lib/python3.8/site-packages/sklearn/svm/_base.py:1206: ConvergenceWarning: Liblinear failed to converge, increase the number of iterations.\n",
      "  warnings.warn(\n",
      "/Users/yanyingj/miniconda3/lib/python3.8/site-packages/sklearn/svm/_base.py:1206: ConvergenceWarning: Liblinear failed to converge, increase the number of iterations.\n",
      "  warnings.warn(\n",
      "/Users/yanyingj/miniconda3/lib/python3.8/site-packages/sklearn/svm/_base.py:1206: ConvergenceWarning: Liblinear failed to converge, increase the number of iterations.\n",
      "  warnings.warn(\n"
     ]
    },
    {
     "name": "stdout",
     "output_type": "stream",
     "text": [
      "[0.63391518 0.62869654 0.63943375 0.63049607 0.63857229]\n",
      "Mean 0.6342227649485399\n",
      "Std 0.004256634701216942\n"
     ]
    },
    {
     "name": "stderr",
     "output_type": "stream",
     "text": [
      "/Users/yanyingj/miniconda3/lib/python3.8/site-packages/sklearn/svm/_base.py:1206: ConvergenceWarning: Liblinear failed to converge, increase the number of iterations.\n",
      "  warnings.warn(\n"
     ]
    }
   ],
   "source": [
    "scores = cross_val_score(mean_wv_svm,X_test,y_test,cv=5)\n",
    "print(scores)\n",
    "print(\"Mean\",scores.mean())\n",
    "print(\"Std\",scores.std())"
   ]
  },
  {
   "cell_type": "code",
   "execution_count": 12,
   "metadata": {},
   "outputs": [],
   "source": [
    "pred_mean_wv_svm = mean_wv_svm.predict(X_test)"
   ]
  },
  {
   "cell_type": "code",
   "execution_count": 13,
   "metadata": {},
   "outputs": [
    {
     "data": {
      "image/png": "[encoded data removed]",
      "text/plain": [
       "<Figure size 432x288 with 1 Axes>"
      ]
     },
     "metadata": {
      "needs_background": "light"
     },
     "output_type": "display_data"
    }
   ],
   "source": [
    "roc_curve_plot(y_test, pred_mean_wv_svm,'Linear SVM')"
   ]
  },
  {
   "cell_type": "markdown",
   "metadata": {},
   "source": [
    "## Random Forest Classifier\n",
    "Random is a popular algorithm based on decision trees and is part of the bagging model family. Random forest is prominent because of its high performance on various classification tasks, and it doesn’t require lots of standardization of features.  Our input data contains different types of features in different scales, making a random forest classifier potentially a good fit. \n",
    "Our initial iteration result actually proved this. With initial parameters of (n_estimators = 50, max_depth = 30) we got accuracy of 64%. \n"
   ]
  },
  {
   "cell_type": "code",
   "execution_count": 14,
   "metadata": {},
   "outputs": [
    {
     "data": {
      "text/plain": [
       "RandomForestClassifier(max_depth=30, n_estimators=50)"
      ]
     },
     "execution_count": 14,
     "metadata": {},
     "output_type": "execute_result"
    }
   ],
   "source": [
    "mean_wv_rf = RandomForestClassifier(n_estimators = 50, max_depth = 30)\n",
    "mean_wv_rf.fit(X_train, y_train)"
   ]
  },
  {
   "cell_type": "code",
   "execution_count": 15,
   "metadata": {},
   "outputs": [
    {
     "name": "stdout",
     "output_type": "stream",
     "text": [
      "               precision    recall  f1-score   support\n",
      "\n",
      "Not Difficult       0.67      0.62      0.65     41549\n",
      "    Difficult       0.65      0.70      0.68     41805\n",
      "\n",
      "     accuracy                           0.66     83354\n",
      "    macro avg       0.66      0.66      0.66     83354\n",
      " weighted avg       0.66      0.66      0.66     83354\n",
      "\n"
     ]
    }
   ],
   "source": [
    "pred_wv_rf = mean_wv_rf.predict(X_test)\n",
    "# print(classification_report(y_test, pred_wv_rf,target_names = [\"Not Difficult\", \"Difficult\"]))"
   ]
  },
  {
   "cell_type": "code",
   "execution_count": 60,
   "metadata": {},
   "outputs": [],
   "source": [
    "# print('accuracy:',accuracy_score(y_test, pred_wv_rf))"
   ]
  },
  {
   "cell_type": "markdown",
   "metadata": {},
   "source": [
    "Explore results of the Random Forest Classifier using k-fold cross validation. Here we use k = 5"
   ]
  },
  {
   "cell_type": "code",
   "execution_count": 17,
   "metadata": {},
   "outputs": [
    {
     "name": "stdout",
     "output_type": "stream",
     "text": [
      "[0.63625457 0.63517485 0.63505489 0.63979365 0.63455309]\n",
      "Mean 0.6361662114221028\n",
      "Std 0.001896636022609125\n"
     ]
    }
   ],
   "source": [
    "scores = cross_val_score(mean_wv_rf,X_test,y_test,cv=5)\n",
    "print(scores)\n",
    "print(\"Mean\",scores.mean())\n",
    "print(\"Std\",scores.std())"
   ]
  },
  {
   "cell_type": "markdown",
   "metadata": {},
   "source": [
    "#### Random Forest Hyperparameter Tuning Using GridSearchCV\n",
    "GridSearchCV was conducted for parameter tuning on max_depth and n_estimators( 'n_estimators': [5,20,50,100], 'max_depth': [2,10,20,30]), the best parameter turns out to be n_estimators = 100 and max_depth = 30, with accuracy score at 0.6629."
   ]
  },
  {
   "cell_type": "code",
   "execution_count": 18,
   "metadata": {},
   "outputs": [
    {
     "data": {
      "text/plain": [
       "GridSearchCV(estimator=RandomForestClassifier(),\n",
       "             param_grid={'max_depth': [2, 10, 20],\n",
       "                         'n_estimators': [5, 20, 50, 100]})"
      ]
     },
     "execution_count": 18,
     "metadata": {},
     "output_type": "execute_result"
    }
   ],
   "source": [
    "rf = RandomForestClassifier()\n",
    "parameters = {\n",
    "    'n_estimators': [5,20,50,100],\n",
    "    'max_depth': [2,10,20,30]\n",
    "}\n",
    "\n",
    "cv = GridSearchCV(rf,parameters)\n",
    "cv.fit(X_train,y_train)"
   ]
  },
  {
   "cell_type": "code",
   "execution_count": 61,
   "metadata": {},
   "outputs": [
    {
     "ename": "AttributeError",
     "evalue": "'StratifiedShuffleSplit' object has no attribute 'best_params_'",
     "output_type": "error",
     "traceback": [
      "\u001b[0;31m---------------------------------------------------------------------------\u001b[0m",
      "\u001b[0;31mAttributeError\u001b[0m                            Traceback (most recent call last)",
      "Input \u001b[0;32mIn [61]\u001b[0m, in \u001b[0;36m<cell line: 1>\u001b[0;34m()\u001b[0m\n\u001b[0;32m----> 1\u001b[0m \u001b[43mcv\u001b[49m\u001b[38;5;241;43m.\u001b[39;49m\u001b[43mbest_params_\u001b[49m\n",
      "\u001b[0;31mAttributeError\u001b[0m: 'StratifiedShuffleSplit' object has no attribute 'best_params_'"
     ]
    }
   ],
   "source": [
    "cv.best_params_"
   ]
  },
  {
   "cell_type": "code",
   "execution_count": 20,
   "metadata": {},
   "outputs": [
    {
     "data": {
      "text/plain": [
       "0.6629295778144564"
      ]
     },
     "execution_count": 20,
     "metadata": {},
     "output_type": "execute_result"
    }
   ],
   "source": [
    "#cv.best_estimator_\n",
    "cv.best_score_"
   ]
  },
  {
   "cell_type": "code",
   "execution_count": null,
   "metadata": {},
   "outputs": [],
   "source": [
    "# cv.cv_results_"
   ]
  },
  {
   "cell_type": "markdown",
   "metadata": {},
   "source": [
    "#### Create Random Forest Model with Best Parameters"
   ]
  },
  {
   "cell_type": "code",
   "execution_count": 72,
   "metadata": {},
   "outputs": [],
   "source": [
    "rf_best = RandomForestClassifier(n_estimators = 100, max_depth = 30)\n",
    "\n",
    "rf_best.fit(X_train,y_train)\n",
    "rf_best_pred = rf_best.predict(X_test)\n"
   ]
  },
  {
   "cell_type": "code",
   "execution_count": 79,
   "metadata": {},
   "outputs": [
    {
     "name": "stdout",
     "output_type": "stream",
     "text": [
      "[0.64333273 0.63877392 0.64261292 0.64723172 0.64181164]\n",
      "Mean 0.6427525860672747\n",
      "Std 0.0027252116722079767\n"
     ]
    }
   ],
   "source": [
    "rf_best_scores = cross_val_score(rf_best,X_test,y_test,cv=5)\n",
    "print(rf_best_scores)\n",
    "print(\"Mean\",rf_best_scores.mean())\n",
    "print(\"Std\",rf_best_scores.std())"
   ]
  },
  {
   "cell_type": "code",
   "execution_count": 74,
   "metadata": {},
   "outputs": [
    {
     "data": {
      "image/png": "[encoded data removed]",
      "text/plain": [
       "<Figure size 432x288 with 1 Axes>"
      ]
     },
     "metadata": {
      "needs_background": "light"
     },
     "output_type": "display_data"
    }
   ],
   "source": [
    "roc_curve_plot(y_test, rf_best_pred,'Random Forest')"
   ]
  },
  {
   "cell_type": "markdown",
   "metadata": {},
   "source": [
    "## XGBoost (eXtreme Gradient Boosting)\n",
    "\n",
    "To further explore decision-tree-based algorithms, we decided to try XGBoost, a type of ensemble model, which combines several weaker base learners to create a stronger and more accurate model. XGBoost uses gradient boosting to train decision trees iteratively, with each new tree correcting the errors made by the prior trees. \n",
    "\n",
    "XGBoost is widely adopted in industry and becoming more and more popular due to its good performance and scalability on high-dimensional datasets. However, it has a longer list of parameters so parameter tuning takes more time and computational effort. \n"
   ]
  },
  {
   "cell_type": "code",
   "execution_count": 35,
   "metadata": {},
   "outputs": [],
   "source": [
    "from sklearn.model_selection import StratifiedShuffleSplit\n",
    "\n",
    "cv = StratifiedShuffleSplit(n_splits=5, test_size=0.8,\n",
    "train_size=0.2, random_state=42)"
   ]
  },
  {
   "cell_type": "markdown",
   "metadata": {},
   "source": [
    "#### Parameter Tuning for XGBoost\n",
    "We conducted parameter tuning in two batches: the first time on gamma and learning rate ( 'gamma':[i/10.0 for i in range(0,5)],'learning_rate':[0.1,0.2,0.3]), the second time on max_depth and min_child_weight ('max_depth':[3,4,5,6], 'min_child_weight':[2,4,6]). The reason is that if we combine all parameters and tune all in one time, it will be 1200 fits in total and takes 60 hours approximately. But when we broke it down and used the best parameters from the first batch: gamma = 0.1 and learning rate = 0.1, we were able to reduce the training time to 3 hours, which was much more manageable.   "
   ]
  },
  {
   "cell_type": "code",
   "execution_count": 81,
   "metadata": {},
   "outputs": [
    {
     "name": "stderr",
     "output_type": "stream",
     "text": [
      "UsageError: Line magic function `%%time` not found.\n"
     ]
    }
   ],
   "source": [
    "# Code for parameters inspired by https://www.analyticsvidhya.com/blog/2016/03/complete-guide-parameter-tuning-xgboost-with-codes-python/\n",
    "%%time\n",
    "scoring = {\"AUC\": \"roc_auc\", \"Accuracy\": make_scorer(accuracy_score)}\n",
    "param_1 = {\n",
    " 'gamma':[i/10.0 for i in range(0,5)],\n",
    " 'learning_rate':[0.1,0.2,0.3]\n",
    "}\n",
    "gs_xgb1 = GridSearchCV(estimator = XGBClassifier(learning_rate=0.1, n_estimators=140, max_depth=5,\n",
    " min_child_weight=2, gamma=0, subsample=0.8, colsample_bytree=0.8,\n",
    " objective= 'binary:logistic', nthread=4, scale_pos_weight=1,seed=42), \n",
    " param_grid = param_1, scoring=scoring,n_jobs=4, refit=\"AUC\",cv=cv,verbose=2)\n",
    "gs_xgb1.fit(X_train,y_train)\n"
   ]
  },
  {
   "cell_type": "code",
   "execution_count": 43,
   "metadata": {},
   "outputs": [
    {
     "data": {
      "text/plain": [
       "({'gamma': 0.1, 'learning_rate': 0.1}, 0.7100570498494113)"
      ]
     },
     "execution_count": 43,
     "metadata": {},
     "output_type": "execute_result"
    }
   ],
   "source": [
    "gs_xgb1.best_params_, gs_xgb1.best_score_"
   ]
  },
  {
   "cell_type": "code",
   "execution_count": 57,
   "metadata": {},
   "outputs": [],
   "source": [
    "# gs_xgb1.cv_results_"
   ]
  },
  {
   "cell_type": "code",
   "execution_count": 40,
   "metadata": {},
   "outputs": [
    {
     "name": "stdout",
     "output_type": "stream",
     "text": [
      "Fitting 5 folds for each of 12 candidates, totalling 60 fits\n",
      "[CV] END .......................gamma=0.0, learning_rate=0.1; total time= 2.3min\n",
      "[CV] END .......................gamma=0.0, learning_rate=0.1; total time= 2.3min\n",
      "[CV] END .......................gamma=0.0, learning_rate=0.3; total time= 2.2min\n",
      "[CV] END .......................gamma=0.1, learning_rate=0.1; total time= 2.2min\n",
      "[CV] END .......................gamma=0.1, learning_rate=0.1; total time= 2.2min\n",
      "[CV] END .......................gamma=0.1, learning_rate=0.2; total time= 2.2min\n",
      "[CV] END .......................gamma=0.1, learning_rate=0.3; total time= 2.2min\n",
      "[CV] END .......................gamma=0.2, learning_rate=0.1; total time= 2.2min\n",
      "[CV] END .......................gamma=0.2, learning_rate=0.2; total time= 2.2min\n",
      "[CV] END .......................gamma=0.2, learning_rate=0.2; total time= 2.2min\n",
      "[CV] END .......................gamma=0.2, learning_rate=0.3; total time= 2.3min\n",
      "[CV] END .......................gamma=0.3, learning_rate=0.1; total time= 2.3min\n",
      "[CV] END .......................gamma=0.3, learning_rate=0.2; total time= 2.3min\n",
      "[CV] END .......................gamma=0.3, learning_rate=0.2; total time= 2.3min\n",
      "[CV] END .......................gamma=0.3, learning_rate=0.3; total time= 2.3min\n",
      "[CV] END .......................gamma=0.4, learning_rate=0.1; total time= 2.3min\n",
      "[CV] END .......................gamma=0.4, learning_rate=0.2; total time= 2.4min\n",
      "[CV] END .......................gamma=0.4, learning_rate=0.2; total time= 2.3min\n",
      "[CV] END .......................gamma=0.4, learning_rate=0.3; total time= 1.7min\n",
      "[CV] END ....................max_depth=3, min_child_weight=2; total time= 1.3min\n",
      "[CV] END ....................max_depth=3, min_child_weight=4; total time= 1.3min\n",
      "[CV] END ....................max_depth=3, min_child_weight=4; total time= 1.3min\n",
      "[CV] END ....................max_depth=3, min_child_weight=6; total time= 1.3min\n",
      "[CV] END ....................max_depth=4, min_child_weight=2; total time= 1.8min\n",
      "[CV] END ....................max_depth=4, min_child_weight=4; total time= 1.8min\n",
      "[CV] END ....................max_depth=4, min_child_weight=6; total time= 1.9min\n",
      "[CV] END ....................max_depth=4, min_child_weight=6; total time= 1.8min\n",
      "[CV] END ....................max_depth=5, min_child_weight=2; total time= 2.4min\n",
      "[CV] END ....................max_depth=5, min_child_weight=4; total time= 2.3min\n",
      "[CV] END ....................max_depth=5, min_child_weight=6; total time= 2.3min\n",
      "[CV] END ....................max_depth=5, min_child_weight=6; total time= 2.3min\n",
      "[CV] END ....................max_depth=6, min_child_weight=2; total time= 2.9min\n",
      "[CV] END ....................max_depth=6, min_child_weight=4; total time= 2.9min\n",
      "[CV] END ....................max_depth=6, min_child_weight=6; total time= 2.8min\n",
      "[CV] END .......................gamma=0.0, learning_rate=0.1; total time= 2.3min\n",
      "[CV] END .......................gamma=0.0, learning_rate=0.2; total time= 2.3min\n",
      "[CV] END .......................gamma=0.0, learning_rate=0.2; total time= 2.2min\n",
      "[CV] END .......................gamma=0.0, learning_rate=0.3; total time= 2.2min\n",
      "[CV] END .......................gamma=0.1, learning_rate=0.1; total time= 2.2min\n",
      "[CV] END .......................gamma=0.1, learning_rate=0.2; total time= 2.2min\n",
      "[CV] END .......................gamma=0.1, learning_rate=0.3; total time= 2.2min\n",
      "[CV] END .......................gamma=0.2, learning_rate=0.1; total time= 2.2min\n",
      "[CV] END .......................gamma=0.2, learning_rate=0.1; total time= 2.2min\n",
      "[CV] END .......................gamma=0.2, learning_rate=0.2; total time= 2.2min\n",
      "[CV] END .......................gamma=0.2, learning_rate=0.3; total time= 2.3min\n",
      "[CV] END .......................gamma=0.3, learning_rate=0.1; total time= 2.3min\n",
      "[CV] END .......................gamma=0.3, learning_rate=0.2; total time= 2.3min\n",
      "[CV] END .......................gamma=0.3, learning_rate=0.3; total time= 2.3min\n",
      "[CV] END .......................gamma=0.3, learning_rate=0.3; total time= 2.3min\n",
      "[CV] END .......................gamma=0.4, learning_rate=0.1; total time= 2.3min\n",
      "[CV] END .......................gamma=0.4, learning_rate=0.2; total time= 2.4min\n",
      "[CV] END .......................gamma=0.4, learning_rate=0.2; total time= 2.3min\n",
      "[CV] END .......................gamma=0.4, learning_rate=0.3; total time= 1.7min\n",
      "[CV] END ....................max_depth=3, min_child_weight=2; total time= 1.4min\n",
      "[CV] END ....................max_depth=3, min_child_weight=4; total time= 1.3min\n",
      "[CV] END ....................max_depth=3, min_child_weight=6; total time= 1.3min\n",
      "[CV] END ....................max_depth=3, min_child_weight=6; total time= 1.3min\n",
      "[CV] END ....................max_depth=4, min_child_weight=2; total time= 1.8min\n",
      "[CV] END ....................max_depth=4, min_child_weight=4; total time= 1.8min\n",
      "[CV] END ....................max_depth=4, min_child_weight=6; total time= 1.9min\n",
      "[CV] END ....................max_depth=4, min_child_weight=6; total time= 1.8min\n",
      "[CV] END ....................max_depth=5, min_child_weight=2; total time= 2.4min\n",
      "[CV] END ....................max_depth=5, min_child_weight=4; total time= 2.3min\n",
      "[CV] END ....................max_depth=5, min_child_weight=6; total time= 2.3min\n",
      "[CV] END ....................max_depth=6, min_child_weight=2; total time= 2.9min\n",
      "[CV] END ....................max_depth=6, min_child_weight=2; total time= 2.9min\n",
      "[CV] END ....................max_depth=6, min_child_weight=4; total time= 2.9min\n",
      "[CV] END ....................max_depth=6, min_child_weight=6; total time= 2.7min\n",
      "CPU times: user 19min 1s, sys: 4.96 s, total: 19min 6s\n",
      "Wall time: 36min 14s\n"
     ]
    },
    {
     "data": {
      "text/plain": [
       "GridSearchCV(cv=StratifiedShuffleSplit(n_splits=5, random_state=42, test_size=0.8,\n",
       "            train_size=0.2),\n",
       "             estimator=XGBClassifier(base_score=None, booster=None,\n",
       "                                     callbacks=None, colsample_bylevel=None,\n",
       "                                     colsample_bynode=None,\n",
       "                                     colsample_bytree=0.8,\n",
       "                                     early_stopping_rounds=None,\n",
       "                                     enable_categorical=False, eval_metric=None,\n",
       "                                     feature_types=None, gamma=0.1, gpu_id=None,\n",
       "                                     grow_polic...\n",
       "                                     max_cat_to_onehot=None,\n",
       "                                     max_delta_step=None, max_depth=5,\n",
       "                                     max_leaves=None, min_child_weight=2,\n",
       "                                     missing=nan, monotone_constraints=None,\n",
       "                                     n_estimators=140, n_jobs=None, nthread=4,\n",
       "                                     num_parallel_tree=None, predictor=None, ...),\n",
       "             n_jobs=4,\n",
       "             param_grid={'max_depth': [3, 4, 5, 6],\n",
       "                         'min_child_weight': [2, 4, 6]},\n",
       "             refit='AUC',\n",
       "             scoring={'AUC': 'roc_auc',\n",
       "                      'Accuracy': make_scorer(accuracy_score)},\n",
       "             verbose=2)"
      ]
     },
     "execution_count": 40,
     "metadata": {},
     "output_type": "execute_result"
    }
   ],
   "source": [
    "%%time\n",
    "scoring = {\"AUC\": \"roc_auc\", \"Accuracy\": make_scorer(accuracy_score)}\n",
    "param_2 = {\n",
    " 'max_depth':[3,4,5,6],\n",
    " 'min_child_weight':[2,4,6]\n",
    "}\n",
    "gs_xgb2 = GridSearchCV(estimator = XGBClassifier(learning_rate=0.1, n_estimators=140, max_depth=5,\n",
    " min_child_weight=2, gamma=0.1, subsample=0.8, colsample_bytree=0.8,\n",
    " objective= 'binary:logistic', nthread=4, scale_pos_weight=1,seed=42), \n",
    " param_grid = param_2, scoring=scoring,n_jobs=4, refit=\"AUC\",cv=cv,verbose=2)\n",
    "gs_xgb2.fit(X_train,y_train)"
   ]
  },
  {
   "cell_type": "code",
   "execution_count": 46,
   "metadata": {},
   "outputs": [
    {
     "data": {
      "text/plain": [
       "({'max_depth': 6, 'min_child_weight': 2}, 0.7121347135934908)"
      ]
     },
     "execution_count": 46,
     "metadata": {},
     "output_type": "execute_result"
    }
   ],
   "source": [
    "gs_xgb2.best_params_, gs_xgb2.best_score_"
   ]
  },
  {
   "cell_type": "code",
   "execution_count": 69,
   "metadata": {},
   "outputs": [],
   "source": [
    "# gs_xgb2.cv_results_"
   ]
  },
  {
   "cell_type": "code",
   "execution_count": 47,
   "metadata": {},
   "outputs": [],
   "source": [
    "best_param = {'gamma': 0.1, 'learning_rate': 0.1, 'max_depth': 6, 'min_child_weight': 2}"
   ]
  },
  {
   "cell_type": "markdown",
   "metadata": {},
   "source": [
    "#### Create XGB using Best Parameters"
   ]
  },
  {
   "cell_type": "code",
   "execution_count": 49,
   "metadata": {
    "tags": []
   },
   "outputs": [],
   "source": [
    "xgb = XGBClassifier(learning_rate =0.1,n_estimators=1000,max_depth=6, gamma=0.1,\n",
    " min_child_weight=2,\n",
    " # colsample_bytree=0.8,\n",
    " # objective= 'binary:logistic',\n",
    " nthread=4,\n",
    " scale_pos_weight=1,\n",
    " seed=42)\n"
   ]
  },
  {
   "cell_type": "code",
   "execution_count": 50,
   "metadata": {
    "tags": []
   },
   "outputs": [
    {
     "data": {
      "text/plain": [
       "XGBClassifier(base_score=None, booster=None, callbacks=None,\n",
       "              colsample_bylevel=None, colsample_bynode=None,\n",
       "              colsample_bytree=None, early_stopping_rounds=None,\n",
       "              enable_categorical=False, eval_metric=None, feature_types=None,\n",
       "              gamma=0.1, gpu_id=None, grow_policy=None, importance_type=None,\n",
       "              interaction_constraints=None, learning_rate=0.1, max_bin=None,\n",
       "              max_cat_threshold=None, max_cat_to_onehot=None,\n",
       "              max_delta_step=None, max_depth=6, max_leaves=None,\n",
       "              min_child_weight=2, missing=nan, monotone_constraints=None,\n",
       "              n_estimators=1000, n_jobs=None, nthread=4, num_parallel_tree=None,\n",
       "              predictor=None, ...)"
      ]
     },
     "execution_count": 50,
     "metadata": {},
     "output_type": "execute_result"
    }
   ],
   "source": [
    "xgb.fit(X_train,y_train)\n"
   ]
  },
  {
   "cell_type": "code",
   "execution_count": 51,
   "metadata": {
    "tags": []
   },
   "outputs": [],
   "source": [
    "y_pred_xgb = xgb.predict(X_test)"
   ]
  },
  {
   "cell_type": "code",
   "execution_count": 52,
   "metadata": {},
   "outputs": [
    {
     "name": "stdout",
     "output_type": "stream",
     "text": [
      "[0.65029092 0.65047088 0.65029092 0.65832883 0.65236953]\n",
      "Mean 0.6523502173777949\n",
      "Std 0.003090551055459241\n"
     ]
    }
   ],
   "source": [
    "scores = cross_val_score(xgb,X_test,y_test,cv=5)\n",
    "print(scores)\n",
    "print(\"Mean\",scores.mean())\n",
    "print(\"Std\",scores.std())"
   ]
  },
  {
   "cell_type": "code",
   "execution_count": 53,
   "metadata": {},
   "outputs": [
    {
     "name": "stdout",
     "output_type": "stream",
     "text": [
      "Confusion Matrix : \n",
      " [[26316 15233]\n",
      " [11849 29956]]\n"
     ]
    }
   ],
   "source": [
    "cm = confusion_matrix(y_test, y_pred_xgb)\n",
    "print (\"Confusion Matrix : \\n\", cm)"
   ]
  },
  {
   "cell_type": "code",
   "execution_count": 54,
   "metadata": {},
   "outputs": [
    {
     "data": {
      "image/png": "[encoded data removed]",
      "text/plain": [
       "<Figure size 432x288 with 2 Axes>"
      ]
     },
     "metadata": {
      "needs_background": "light"
     },
     "output_type": "display_data"
    }
   ],
   "source": [
    "disp = ConfusionMatrixDisplay(confusion_matrix=cm)\n",
    "disp.plot(cmap=plt.cm.Blues)\n",
    "plt.show()"
   ]
  },
  {
   "cell_type": "code",
   "execution_count": 55,
   "metadata": {},
   "outputs": [
    {
     "data": {
      "image/png": "[encoded data removed]",
      "text/plain": [
       "<Figure size 432x288 with 1 Axes>"
      ]
     },
     "metadata": {
      "needs_background": "light"
     },
     "output_type": "display_data"
    }
   ],
   "source": [
    "roc_curve_plot(y_test, y_pred_xgb,'XGBoost')"
   ]
  },
  {
   "cell_type": "markdown",
   "metadata": {},
   "source": [
    "#### XGBoost with Best Params and Unsupervised Learning Derived Clusters"
   ]
  },
  {
   "cell_type": "markdown",
   "metadata": {},
   "source": [
    "To further explore XGBoost algorithm and its sensitivity to feature representation, we added the predicted clusters from unsupervised learning model (K-Means with truncated SVD) to our word2vec exported features and trained it using the best parameters we obtained from parameter tuning. \n",
    "\n",
    "\n",
    "Note: Run the Unsupervised Learning Notebook first to obtain the X_train_plus and X_test_plus file."
   ]
  },
  {
   "cell_type": "code",
   "execution_count": 75,
   "metadata": {},
   "outputs": [],
   "source": [
    "X_train_plus = np.load('X_train_plus.npy', allow_pickle=True)\n",
    "X_test_plus = np.load('X_test_plus.npy', allow_pickle=True)"
   ]
  },
  {
   "cell_type": "code",
   "execution_count": 76,
   "metadata": {},
   "outputs": [
    {
     "data": {
      "text/plain": [
       "XGBClassifier(base_score=None, booster=None, callbacks=None,\n",
       "              colsample_bylevel=None, colsample_bynode=None,\n",
       "              colsample_bytree=None, early_stopping_rounds=None,\n",
       "              enable_categorical=False, eval_metric=None, feature_types=None,\n",
       "              gamma=0.1, gpu_id=None, grow_policy=None, importance_type=None,\n",
       "              interaction_constraints=None, learning_rate=0.1, max_bin=None,\n",
       "              max_cat_threshold=None, max_cat_to_onehot=None,\n",
       "              max_delta_step=None, max_depth=6, max_leaves=None,\n",
       "              min_child_weight=2, missing=nan, monotone_constraints=None,\n",
       "              n_estimators=1000, n_jobs=None, nthread=4, num_parallel_tree=None,\n",
       "              predictor=None, ...)"
      ]
     },
     "execution_count": 76,
     "metadata": {},
     "output_type": "execute_result"
    }
   ],
   "source": [
    "xgb_unsup = XGBClassifier(learning_rate =0.1,n_estimators=1000,max_depth=6, gamma=0.1,\n",
    " min_child_weight=2,\n",
    " nthread=4,\n",
    " scale_pos_weight=1,\n",
    " seed=42)\n",
    "\n",
    "xgb_unsup.fit(X_train_plus,y_train)\n"
   ]
  },
  {
   "cell_type": "code",
   "execution_count": 77,
   "metadata": {},
   "outputs": [],
   "source": [
    "y_pred_xgb_unsup = xgb_unsup.predict(X_test_plus)"
   ]
  },
  {
   "cell_type": "code",
   "execution_count": 78,
   "metadata": {},
   "outputs": [
    {
     "name": "stdout",
     "output_type": "stream",
     "text": [
      "[0.64741167 0.65053086 0.65185052 0.66120809 0.64925015]\n",
      "Mean 0.6520502579347366\n",
      "Std 0.004807730190218206\n"
     ]
    }
   ],
   "source": [
    "scores_unsup = cross_val_score(xgb_unsup,X_test_plus,y_test,cv=5)\n",
    "print(scores_unsup)\n",
    "print(\"Mean\",scores_unsup.mean())\n",
    "print(\"Std\",scores_unsup.std())"
   ]
  },
  {
   "cell_type": "markdown",
   "metadata": {},
   "source": [
    "Unfortunately we don't see any improvement on our prediction, and we ended up with a higher standard deviation. The reason could be that the clusters generated from K-Means might be more relevant to other characteristics, for instance, topic, instead of readability. "
   ]
  },
  {
   "cell_type": "markdown",
   "metadata": {},
   "source": [
    "#### Trade-Offs\n",
    "To balance training speed and accuracy, we made a tradeoff. During implementation, we created a copy of a subset of training data to speed up the training process. However, using the smaller dataset resulted in less accurate results compared to the full dataset. After implementation, we utilized the full dataset for training, but this method took a significant amount of time for both training and parameter tuning. Unfortunately, due to time constraints, we couldn't optimize all the parameters to achieve the highest possible accuracy, and there may be other parameter combinations that could lead to better results. In addition, our ability to explore other options is limited by computing power and training speed. While we would like to explore other language models like BERT, its higher computational requirements make it impractical for this particular task."
   ]
  },
  {
   "cell_type": "markdown",
   "metadata": {},
   "source": [
    "#### Reference:\n",
    "\n",
    "https://www.analyticsvidhya.com/blog/2016/03/complete-guide-parameter-tuning-xgboost-with-codes-python/"
   ]
  }
 ],
 "metadata": {
  "deepnote": {},
  "deepnote_execution_queue": [],
  "deepnote_notebook_id": "9eed9e600662400baa26069c73451508",
  "kernelspec": {
   "display_name": "Python 3 (ipykernel)",
   "language": "python",
   "name": "python3"
  },
  "language_info": {
   "codemirror_mode": {
    "name": "ipython",
    "version": 3
   },
   "file_extension": ".py",
   "mimetype": "text/x-python",
   "name": "python",
   "nbconvert_exporter": "python",
   "pygments_lexer": "ipython3",
   "version": "3.8.11"
  }
 },
 "nbformat": 4,
 "nbformat_minor": 4
}
